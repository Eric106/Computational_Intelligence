{
 "metadata": {
  "language_info": {
   "codemirror_mode": {
    "name": "ipython",
    "version": 3
   },
   "file_extension": ".py",
   "mimetype": "text/x-python",
   "name": "python",
   "nbconvert_exporter": "python",
   "pygments_lexer": "ipython3",
   "version": "3.8.8"
  },
  "orig_nbformat": 2,
  "kernelspec": {
   "name": "python388jvsc74a57bd096fa440b9d77aea783129ded58c6f019b551a52ff6ea115cc8177f8e4e67799c",
   "display_name": "Python 3.8.8 64-bit ('c_int': conda)"
  }
 },
 "nbformat": 4,
 "nbformat_minor": 2,
 "cells": [
  {
   "cell_type": "code",
   "execution_count": 35,
   "metadata": {},
   "outputs": [],
   "source": [
    "from pandas import read_csv, DataFrame\n",
    "\n",
    "LOG_FILE = 'access_log_format-1.csv'\n",
    "\n",
    "\n",
    "def read_log(file_name: str) -> DataFrame:\n",
    "    ds = read_csv(file_name, parse_dates=[3], infer_datetime_format=True)\n",
    "    ds['datetime'] = ds['datetime'].sort_index()\n",
    "    return ds\n",
    "\n",
    "\n",
    "def get_proba(df: DataFrame, src_ip: str, date_time: str, country: str):\n",
    "    ''' Function that returns the probability of a src_ip, date_time and country ocurrs'''\n",
    "    df_org_shape = df.shape[0]\n",
    "    df = df[df['src_ip'] == src_ip]\n",
    "    df = df[df['country'] == country]\n",
    "    df = df[df['datetime'] == date_time]\n",
    "    print(df[['src_ip','datetime','country']])\n",
    "    return df.shape[0]/df_org_shape"
   ]
  },
  {
   "source": [
    "Now we test de values of:\n",
    "    src_ip='14.139.187.130', \n",
    "    date_time='2017-01-01 06:56:17', \n",
    "    country='US'"
   ],
   "cell_type": "markdown",
   "metadata": {}
  },
  {
   "cell_type": "code",
   "execution_count": 36,
   "metadata": {},
   "outputs": [
    {
     "output_type": "stream",
     "name": "stdout",
     "text": [
      "Empty DataFrame\nColumns: [src_ip, datetime, country]\nIndex: []\nprobability:  0.0\n"
     ]
    }
   ],
   "source": [
    "data = read_log(LOG_FILE)\n",
    "proba = get_proba(data, '14.139.187.130', '2017-01-01 06:56:17', 'US')\n",
    "# proba = get_proba(data, '14.139.187.130', '2017-01-01 02:16:56', 'BR')\n",
    "print('probability: ',proba)"
   ]
  }
 ]
}