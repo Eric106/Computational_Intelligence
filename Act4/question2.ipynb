{
 "metadata": {
  "language_info": {
   "codemirror_mode": {
    "name": "ipython",
    "version": 3
   },
   "file_extension": ".py",
   "mimetype": "text/x-python",
   "name": "python",
   "nbconvert_exporter": "python",
   "pygments_lexer": "ipython3",
   "version": "3.8.8"
  },
  "orig_nbformat": 2,
  "kernelspec": {
   "name": "python388jvsc74a57bd096fa440b9d77aea783129ded58c6f019b551a52ff6ea115cc8177f8e4e67799c",
   "display_name": "Python 3.8.8 64-bit ('c_int': conda)"
  }
 },
 "nbformat": 4,
 "nbformat_minor": 2,
 "cells": [
  {
   "cell_type": "code",
   "execution_count": 27,
   "metadata": {},
   "outputs": [],
   "source": [
    "from statistics import mean, stdev\n",
    "from pandas import read_csv, DataFrame, concat\n",
    "\n",
    "LOG_FILE = 'access_log_format-1.csv'\n",
    "\n",
    "\n",
    "def read_log(file_name: str) -> DataFrame:\n",
    "    ds = read_csv(file_name, parse_dates=[3], infer_datetime_format=True)\n",
    "    ds['datetime'] = ds['datetime'].sort_index()\n",
    "    return ds\n",
    "\n",
    "def set_suspicious_tag(df: DataFrame) -> DataFrame:\n",
    "    ''' Filters 200 status OK and sets the suspicious tag'''\n",
    "    ok_status_df = df[df['response_code'] == 200]\n",
    "    date_ranges = ok_status_df.resample('30min', on='datetime').\\\n",
    "                        size().to_frame().reset_index().rename(columns={0:'count'})\n",
    "    g_mean = mean(date_ranges['count'])\n",
    "    g_stdev = stdev(date_ranges['count'])\n",
    "    labeled_dataset = DataFrame()\n",
    "    for i in range(1, date_ranges.shape[0]+1):\n",
    "        temp_df = None\n",
    "        init_dt = None\n",
    "        end_dt = None\n",
    "        try:\n",
    "            init_dt = date_ranges['datetime'][i-1]\n",
    "            end_dt = date_ranges['datetime'][i]\n",
    "        except Exception:\n",
    "            end_dt = df['datetime'][df.shape[0]-1]\n",
    "            \n",
    "        temp_df = ok_status_df[(ok_status_df['datetime'] > init_dt) & (ok_status_df['datetime'] <= end_dt)]\n",
    "        ok_count = date_ranges['count'][i-1]\n",
    "        tag = None\n",
    "        if ok_count > g_mean:\n",
    "            if ((ok_count/g_stdev) < 3):\n",
    "                tag = 'suspicious'\n",
    "            else:\n",
    "                tag = 'high-suspicious'\n",
    "        else:\n",
    "            tag = 'normal' \n",
    "        temp_df.insert(temp_df.shape[1], 's_tag', [tag] * temp_df.shape[0])\n",
    "        labeled_dataset = concat([labeled_dataset, temp_df])\n",
    "    return labeled_dataset"
   ]
  },
  {
   "source": [
    "Now we filter 200 status ok and set de suspicious tag in the dataframe"
   ],
   "cell_type": "markdown",
   "metadata": {}
  },
  {
   "cell_type": "code",
   "execution_count": 28,
   "metadata": {
    "tags": []
   },
   "outputs": [
    {
     "output_type": "stream",
     "name": "stdout",
     "text": [
      "              src_ip     userid  ... country       s_tag\n0     14.139.187.130     hahiss  ...      FR      normal\n1     14.139.187.130   ahuillet  ...      FR      normal\n2     14.139.187.130    gtaylor  ...      BR      normal\n3     68.180.228.229    terjesa  ...      FR      normal\n4     68.180.228.229  smallpaul  ...      US      normal\n...              ...        ...  ...     ...         ...\n7206  54.234.104.161      yumpy  ...      FR  suspicious\n7222  54.234.104.161      houle  ...      BR  suspicious\n7225  85.159.196.242  peterhoeg  ...      US  suspicious\n7226  85.159.196.242   wikinerd  ...      BR  suspicious\n7228  163.172.65.131     munjal  ...      MX  suspicious\n\n[3382 rows x 11 columns]\n"
     ]
    }
   ],
   "source": [
    "df = read_log(LOG_FILE)\n",
    "l_df = set_suspicious_tag(df)\n",
    "print(l_df)"
   ]
  }
 ]
}