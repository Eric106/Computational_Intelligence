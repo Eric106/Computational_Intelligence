{
 "metadata": {
  "language_info": {
   "codemirror_mode": {
    "name": "ipython",
    "version": 3
   },
   "file_extension": ".py",
   "mimetype": "text/x-python",
   "name": "python",
   "nbconvert_exporter": "python",
   "pygments_lexer": "ipython3",
   "version": "3.8.8"
  },
  "orig_nbformat": 2,
  "kernelspec": {
   "name": "python388jvsc74a57bd096fa440b9d77aea783129ded58c6f019b551a52ff6ea115cc8177f8e4e67799c",
   "display_name": "Python 3.8.8 64-bit ('c_int': conda)"
  }
 },
 "nbformat": 4,
 "nbformat_minor": 2,
 "cells": [
  {
   "cell_type": "code",
   "execution_count": 17,
   "metadata": {},
   "outputs": [],
   "source": [
    "from statistics import mean, stdev\n",
    "from pandas import read_csv, DataFrame, concat\n",
    "\n",
    "LOG_FILE = 'access_log_format-1.csv'\n",
    "\n",
    "def read_log(file_name: str) -> DataFrame:\n",
    "    ds = read_csv(file_name, parse_dates=[3], infer_datetime_format=True)\n",
    "    ds['datetime'] = ds['datetime'].sort_index()\n",
    "    return ds\n",
    "\n",
    "\n",
    "def set_suspicious_tag(df: DataFrame) -> DataFrame:\n",
    "    ''' Filters 200 status OK and sets the suspicious tag'''\n",
    "    ok_status_df = df[df['response_code'] == 200]\n",
    "    date_ranges = ok_status_df.resample('30min', on='datetime').\\\n",
    "                        size().to_frame().reset_index().rename(columns={0:'count'})\n",
    "    g_mean = mean(date_ranges['count'])\n",
    "    g_stdev = stdev(date_ranges['count'])\n",
    "    labeled_dataset = DataFrame()\n",
    "    for i in range(1, date_ranges.shape[0]+1):\n",
    "        temp_df = None\n",
    "        init_dt = None\n",
    "        end_dt = None\n",
    "        try:\n",
    "            init_dt = date_ranges['datetime'][i-1]\n",
    "            end_dt = date_ranges['datetime'][i]\n",
    "        except Exception:\n",
    "            end_dt = df['datetime'][df.shape[0]-1]\n",
    "            \n",
    "        temp_df = ok_status_df[(ok_status_df['datetime'] > init_dt) & (ok_status_df['datetime'] <= end_dt)]\n",
    "        ok_count = date_ranges['count'][i-1]\n",
    "        tag = None\n",
    "        if ok_count > g_mean:\n",
    "            if ((ok_count/g_stdev) < 3):\n",
    "                tag = 'suspicious'\n",
    "            else:\n",
    "                tag = 'high-suspicious'\n",
    "        else:\n",
    "            tag = 'normal' \n",
    "        temp_df.insert(temp_df.shape[1], 's_tag', [tag] * temp_df.shape[0])\n",
    "        labeled_dataset = concat([labeled_dataset, temp_df])\n",
    "    return labeled_dataset\n",
    "\n",
    "\n",
    "def get_proba1(df: DataFrame, src_ip: str, user: str, country: str, s_tag: str) -> float:\n",
    "    ''' Function that returns the probability of a src_ip, user and country ocurrs'''\n",
    "    df_org_shape = df.shape[0]\n",
    "    df = df[df['s_tag'] == s_tag]\n",
    "    df = df[df['src_ip'] == src_ip]\n",
    "    df = df[df['username'] == user]\n",
    "    df = df[df['country'] == country]\n",
    "    df_final_shape = df.shape[0]\n",
    "    del df\n",
    "    return df_final_shape/df_org_shape\n",
    "\n",
    "\n",
    "def get_proba2(df: DataFrame, src_ip: str, user: str, country: str) -> float:\n",
    "    ''' Function that returns the probability of a src_ip, user and country ocurrs'''\n",
    "    df_org_shape = df.shape[0]\n",
    "    df = df[df['src_ip'] == src_ip]\n",
    "    df = df[df['username'] == user]\n",
    "    df = df[df['country'] == country]\n",
    "    df_final_shape = df.shape[0]\n",
    "    del df\n",
    "    return df_final_shape/df_org_shape\n",
    "\n",
    "\n",
    "def set_wrong_class_proba(df: DataFrame) -> DataFrame:\n",
    "    ''' Sets the probability of a suspicious tag is wrong'''\n",
    "    ALPHA = 0.99850757\n",
    "    BETA = 1\n",
    "    wrong_proba = list()\n",
    "    for i in df.index.tolist():\n",
    "        proba1 = get_proba1(df, df['src_ip'][i], df['username'][i], df['country'][i], df['s_tag'][i])\n",
    "        proba2 =get_proba2(df, df['src_ip'][i], df['username'][i], df['country'][i])\n",
    "        f_proba = (proba1+ALPHA)/(proba2+BETA)\n",
    "        wrong_proba.append(f_proba)\n",
    "    df.insert(df.shape[1], 'proba_wrong_s_tag', wrong_proba)\n",
    "    return df"
   ]
  },
  {
   "source": [
    "Now we filter 200 status ok and set de suspicious tag in the dataframe"
   ],
   "cell_type": "markdown",
   "metadata": {}
  },
  {
   "cell_type": "code",
   "execution_count": 18,
   "metadata": {},
   "outputs": [],
   "source": [
    "\n",
    "df = read_log(LOG_FILE)\n",
    "df = set_suspicious_tag(df)"
   ]
  },
  {
   "source": [
    "Then set if the previous classification is wrong"
   ],
   "cell_type": "markdown",
   "metadata": {}
  },
  {
   "cell_type": "code",
   "execution_count": 19,
   "metadata": {},
   "outputs": [
    {
     "output_type": "stream",
     "name": "stdout",
     "text": [
      "              src_ip     userid                 username            datetime  \\\n0     14.139.187.130     hahiss     hahiss@optonline.net 2017-01-01 02:16:51   \n1     14.139.187.130   ahuillet     ahuillet@comcast.net 2017-01-01 02:16:55   \n2     14.139.187.130    gtaylor        gtaylor@gmail.com 2017-01-01 02:16:56   \n3     68.180.228.229    terjesa    terjesa@sbcglobal.net 2017-01-01 02:17:59   \n4     68.180.228.229  smallpaul  smallpaul@optonline.net 2017-01-01 02:17:59   \n...              ...        ...                      ...                 ...   \n7206  54.234.104.161      yumpy      yumpy@optonline.net 2017-01-04 02:52:03   \n7222  54.234.104.161      houle        houle@outlook.com 2017-01-04 02:52:03   \n7225  85.159.196.242  peterhoeg    peterhoeg@hotmail.com 2017-01-04 02:54:53   \n7226  85.159.196.242   wikinerd        wikinerd@live.com 2017-01-04 02:54:56   \n7228  163.172.65.131     munjal           munjal@aol.com 2017-01-04 02:59:20   \n\n                                                method  response_code  \\\n0                                       GET / HTTP/1.1            200   \n1                        GET /GitHub-Mark.png HTTP/1.1            200   \n2                       GET /twitter-icon.png HTTP/1.1            200   \n3                             GET /robots.txt HTTP/1.1            200   \n4     GET /self.logs/access.log.2015-11-01.gz HTTP/1.1            200   \n...                                                ...            ...   \n7206                          GET /?feed=rss2 HTTP/1.1            200   \n7222                                    GET / HTTP/1.1            200   \n7225   GET /honeypot/Honeypot%20-%20Howto.pdf HTTP/1.1            200   \n7226                         GET /favicon.ico HTTP/1.1            200   \n7228   GET /self.logs/error.log.2016-05-03.gz HTTP/1.1            200   \n\n      return_obj_size               dest_address  \\\n0               10267  https://www.google.co.in/   \n1                7428    http://www.secrepo.com/   \n2               27788    http://www.secrepo.com/   \n3                 233                          -   \n4                6465                          -   \n...               ...                        ...   \n7206            10267                          -   \n7222            10267                          -   \n7225          1279418    http://www.secrepo.com/   \n7226              267                          -   \n7228              782                          -   \n\n                                             user_agent country       s_tag  \\\n0     Mozilla/5.0 (Windows NT 6.1) AppleWebKit/537.3...      FR      normal   \n1     Mozilla/5.0 (Windows NT 6.1) AppleWebKit/537.3...      FR      normal   \n2     Mozilla/5.0 (Windows NT 6.1) AppleWebKit/537.3...      BR      normal   \n3     Mozilla/5.0 (compatible; Yahoo! Slurp; http://...      FR      normal   \n4     Mozilla/5.0 (compatible; Yahoo! Slurp; http://...      US      normal   \n...                                                 ...     ...         ...   \n7206  Mozilla/5.0 (Windows NT 6.3; WOW64) AppleWebKi...      FR  suspicious   \n7222  Mozilla/5.0 (Windows NT 6.3; WOW64) AppleWebKi...      BR  suspicious   \n7225  Mozilla/5.0 (X11; Ubuntu; Linux x86_64; rv:50....      US  suspicious   \n7226  Mozilla/5.0 (X11; Ubuntu; Linux x86_64; rv:50....      BR  suspicious   \n7228  Mozilla/5.0 (compatible; AhrefsBot/5.2; +http:...      MX  suspicious   \n\n      proba_wrong_s_tag  \n0              0.998508  \n1              0.998508  \n2              0.998508  \n3              0.998508  \n4              0.998508  \n...                 ...  \n7206           0.998508  \n7222           0.998213  \n7225           0.998508  \n7226           0.998508  \n7228           0.998508  \n\n[3382 rows x 12 columns]\n"
     ]
    }
   ],
   "source": [
    "df = set_wrong_class_proba(df)\n",
    "# df.to_csv('Q3.csv',index=False)\n",
    "print(df)"
   ]
  }
 ]
}