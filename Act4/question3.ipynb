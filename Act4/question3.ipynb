{
 "metadata": {
  "language_info": {
   "codemirror_mode": {
    "name": "ipython",
    "version": 3
   },
   "file_extension": ".py",
   "mimetype": "text/x-python",
   "name": "python",
   "nbconvert_exporter": "python",
   "pygments_lexer": "ipython3",
   "version": 3
  },
  "orig_nbformat": 2
 },
 "nbformat": 4,
 "nbformat_minor": 2,
 "cells": [
  {
   "cell_type": "code",
   "execution_count": null,
   "metadata": {},
   "outputs": [],
   "source": [
    "from statistics import mean, stdev\n",
    "from pandas import read_csv, DataFrame\n",
    "\n",
    "LOG_FILE = 'access_log_format-1.csv'\n",
    "ALPHA = 0.99850757\n",
    "BETA = 1\n",
    "\n",
    "def read_log(file_name: str) -> DataFrame:\n",
    "    ds = read_csv(file_name, parse_dates=[3], infer_datetime_format=True)\n",
    "    ds['datetime'] = ds['datetime'].sort_index()\n",
    "    return ds"
   ]
  }
 ]
}